{
 "cells": [
  {
   "cell_type": "markdown",
   "metadata": {
    "Collapsed": "false"
   },
   "source": [
    "# Using Natural Language Processing to Generate New Recipes in Python\n",
    "## Task 3: Dataset Preparation"
   ]
  },
  {
   "cell_type": "code",
   "execution_count": 20,
   "metadata": {
    "Collapsed": "false"
   },
   "outputs": [],
   "source": [
    "import numpy as np\n",
    "import pandas as pd"
   ]
  },
  {
   "cell_type": "code",
   "execution_count": 53,
   "metadata": {
    "Collapsed": "false"
   },
   "outputs": [],
   "source": [
    "df = pd.read_pickle('df_recipes_raw.pkl')"
   ]
  },
  {
   "cell_type": "code",
   "execution_count": 54,
   "metadata": {
    "Collapsed": "false"
   },
   "outputs": [],
   "source": [
    "special_token = ' <|endoftext|> '"
   ]
  },
  {
   "cell_type": "code",
   "execution_count": 55,
   "metadata": {
    "Collapsed": "false"
   },
   "outputs": [
    {
     "data": {
      "text/html": [
       "<div>\n",
       "<style scoped>\n",
       "    .dataframe tbody tr th:only-of-type {\n",
       "        vertical-align: middle;\n",
       "    }\n",
       "\n",
       "    .dataframe tbody tr th {\n",
       "        vertical-align: top;\n",
       "    }\n",
       "\n",
       "    .dataframe thead th {\n",
       "        text-align: right;\n",
       "    }\n",
       "</style>\n",
       "<table border=\"1\" class=\"dataframe\">\n",
       "  <thead>\n",
       "    <tr style=\"text-align: right;\">\n",
       "      <th></th>\n",
       "      <th>source</th>\n",
       "      <th>title</th>\n",
       "      <th>ingredients</th>\n",
       "      <th>instructions</th>\n",
       "      <th>ingredient_count</th>\n",
       "      <th>instruction_length</th>\n",
       "    </tr>\n",
       "  </thead>\n",
       "  <tbody>\n",
       "    <tr>\n",
       "      <th>0</th>\n",
       "      <td>ar</td>\n",
       "      <td>Slow Cooker Chicken and Dumplings</td>\n",
       "      <td>[4 skinless, boneless chicken breast halves , ...</td>\n",
       "      <td>Place the chicken, butter, soup, and onion in ...</td>\n",
       "      <td>6</td>\n",
       "      <td>53</td>\n",
       "    </tr>\n",
       "    <tr>\n",
       "      <th>1</th>\n",
       "      <td>ar</td>\n",
       "      <td>Awesome Slow Cooker Pot Roast</td>\n",
       "      <td>[2 (10.75 ounce) cans condensed cream of mushr...</td>\n",
       "      <td>In a slow cooker, mix cream of mushroom soup, ...</td>\n",
       "      <td>5</td>\n",
       "      <td>44</td>\n",
       "    </tr>\n",
       "    <tr>\n",
       "      <th>2</th>\n",
       "      <td>ar</td>\n",
       "      <td>Brown Sugar Meatloaf</td>\n",
       "      <td>[1/2 cup packed brown sugar , 1/2 cup ketchup ...</td>\n",
       "      <td>Preheat oven to 350 degrees F (175 degrees C)....</td>\n",
       "      <td>11</td>\n",
       "      <td>67</td>\n",
       "    </tr>\n",
       "    <tr>\n",
       "      <th>3</th>\n",
       "      <td>ar</td>\n",
       "      <td>Best Chocolate Chip Cookies</td>\n",
       "      <td>[1 cup butter, softened , 1 cup white sugar , ...</td>\n",
       "      <td>Preheat oven to 350 degrees F (175 degrees C)....</td>\n",
       "      <td>12</td>\n",
       "      <td>74</td>\n",
       "    </tr>\n",
       "    <tr>\n",
       "      <th>4</th>\n",
       "      <td>ar</td>\n",
       "      <td>Homemade Mac and Cheese Casserole</td>\n",
       "      <td>[8 ounces whole wheat rotini pasta , 3 cups fr...</td>\n",
       "      <td>Preheat oven to 350 degrees F. Line a 2-quart ...</td>\n",
       "      <td>14</td>\n",
       "      <td>175</td>\n",
       "    </tr>\n",
       "  </tbody>\n",
       "</table>\n",
       "</div>"
      ],
      "text/plain": [
       "  source                              title  \\\n",
       "0     ar  Slow Cooker Chicken and Dumplings   \n",
       "1     ar      Awesome Slow Cooker Pot Roast   \n",
       "2     ar               Brown Sugar Meatloaf   \n",
       "3     ar        Best Chocolate Chip Cookies   \n",
       "4     ar  Homemade Mac and Cheese Casserole   \n",
       "\n",
       "                                         ingredients  \\\n",
       "0  [4 skinless, boneless chicken breast halves , ...   \n",
       "1  [2 (10.75 ounce) cans condensed cream of mushr...   \n",
       "2  [1/2 cup packed brown sugar , 1/2 cup ketchup ...   \n",
       "3  [1 cup butter, softened , 1 cup white sugar , ...   \n",
       "4  [8 ounces whole wheat rotini pasta , 3 cups fr...   \n",
       "\n",
       "                                        instructions  ingredient_count  \\\n",
       "0  Place the chicken, butter, soup, and onion in ...                 6   \n",
       "1  In a slow cooker, mix cream of mushroom soup, ...                 5   \n",
       "2  Preheat oven to 350 degrees F (175 degrees C)....                11   \n",
       "3  Preheat oven to 350 degrees F (175 degrees C)....                12   \n",
       "4  Preheat oven to 350 degrees F. Line a 2-quart ...                14   \n",
       "\n",
       "   instruction_length  \n",
       "0                  53  \n",
       "1                  44  \n",
       "2                  67  \n",
       "3                  74  \n",
       "4                 175  "
      ]
     },
     "execution_count": 55,
     "metadata": {},
     "output_type": "execute_result"
    }
   ],
   "source": [
    "df.head()"
   ]
  },
  {
   "cell_type": "code",
   "execution_count": 56,
   "metadata": {
    "Collapsed": "false"
   },
   "outputs": [
    {
     "name": "stdout",
     "output_type": "stream",
     "text": [
      "DataFrame shape before filter: (124647, 6)\n",
      "DataFrame shape after filter: (121780, 6)\n"
     ]
    }
   ],
   "source": [
    "print(f'DataFrame shape before filter: {df.shape}')\n",
    "df = df[(df.ingredient_count>=3) & (df.instruction_length>=10)]\n",
    "print(f'DataFrame shape after filter: {df.shape}')"
   ]
  },
  {
   "cell_type": "code",
   "execution_count": 57,
   "metadata": {
    "Collapsed": "false"
   },
   "outputs": [],
   "source": [
    "desired_format = 'ingredients: <> \\n instructions: <> \\n special_token'"
   ]
  },
  {
   "cell_type": "code",
   "execution_count": 103,
   "metadata": {
    "Collapsed": "false"
   },
   "outputs": [],
   "source": [
    "df['combined'] = ' \\n Ingredients: \\n ' + df.ingredients.str.join(' \\n ') + ' \\n Instructions: \\n ' + df['instructions'] + special_token"
   ]
  },
  {
   "cell_type": "code",
   "execution_count": 104,
   "metadata": {
    "Collapsed": "false"
   },
   "outputs": [
    {
     "data": {
      "text/html": [
       "<div>\n",
       "<style scoped>\n",
       "    .dataframe tbody tr th:only-of-type {\n",
       "        vertical-align: middle;\n",
       "    }\n",
       "\n",
       "    .dataframe tbody tr th {\n",
       "        vertical-align: top;\n",
       "    }\n",
       "\n",
       "    .dataframe thead th {\n",
       "        text-align: right;\n",
       "    }\n",
       "</style>\n",
       "<table border=\"1\" class=\"dataframe\">\n",
       "  <thead>\n",
       "    <tr style=\"text-align: right;\">\n",
       "      <th></th>\n",
       "      <th>source</th>\n",
       "      <th>title</th>\n",
       "      <th>ingredients</th>\n",
       "      <th>instructions</th>\n",
       "      <th>ingredient_count</th>\n",
       "      <th>instruction_length</th>\n",
       "      <th>combined</th>\n",
       "    </tr>\n",
       "  </thead>\n",
       "  <tbody>\n",
       "    <tr>\n",
       "      <th>0</th>\n",
       "      <td>ar</td>\n",
       "      <td>Slow Cooker Chicken and Dumplings</td>\n",
       "      <td>[4 skinless, boneless chicken breast halves , ...</td>\n",
       "      <td>Place the chicken, butter, soup, and onion in ...</td>\n",
       "      <td>6</td>\n",
       "      <td>53</td>\n",
       "      <td>\\n Ingredients: \\n 4 skinless, boneless chick...</td>\n",
       "    </tr>\n",
       "    <tr>\n",
       "      <th>1</th>\n",
       "      <td>ar</td>\n",
       "      <td>Awesome Slow Cooker Pot Roast</td>\n",
       "      <td>[2 (10.75 ounce) cans condensed cream of mushr...</td>\n",
       "      <td>In a slow cooker, mix cream of mushroom soup, ...</td>\n",
       "      <td>5</td>\n",
       "      <td>44</td>\n",
       "      <td>\\n Ingredients: \\n 2 (10.75 ounce) cans conde...</td>\n",
       "    </tr>\n",
       "    <tr>\n",
       "      <th>2</th>\n",
       "      <td>ar</td>\n",
       "      <td>Brown Sugar Meatloaf</td>\n",
       "      <td>[1/2 cup packed brown sugar , 1/2 cup ketchup ...</td>\n",
       "      <td>Preheat oven to 350 degrees F (175 degrees C)....</td>\n",
       "      <td>11</td>\n",
       "      <td>67</td>\n",
       "      <td>\\n Ingredients: \\n 1/2 cup packed brown sugar...</td>\n",
       "    </tr>\n",
       "    <tr>\n",
       "      <th>3</th>\n",
       "      <td>ar</td>\n",
       "      <td>Best Chocolate Chip Cookies</td>\n",
       "      <td>[1 cup butter, softened , 1 cup white sugar , ...</td>\n",
       "      <td>Preheat oven to 350 degrees F (175 degrees C)....</td>\n",
       "      <td>12</td>\n",
       "      <td>74</td>\n",
       "      <td>\\n Ingredients: \\n 1 cup butter, softened  \\n...</td>\n",
       "    </tr>\n",
       "    <tr>\n",
       "      <th>4</th>\n",
       "      <td>ar</td>\n",
       "      <td>Homemade Mac and Cheese Casserole</td>\n",
       "      <td>[8 ounces whole wheat rotini pasta , 3 cups fr...</td>\n",
       "      <td>Preheat oven to 350 degrees F. Line a 2-quart ...</td>\n",
       "      <td>14</td>\n",
       "      <td>175</td>\n",
       "      <td>\\n Ingredients: \\n 8 ounces whole wheat rotin...</td>\n",
       "    </tr>\n",
       "  </tbody>\n",
       "</table>\n",
       "</div>"
      ],
      "text/plain": [
       "  source                              title  \\\n",
       "0     ar  Slow Cooker Chicken and Dumplings   \n",
       "1     ar      Awesome Slow Cooker Pot Roast   \n",
       "2     ar               Brown Sugar Meatloaf   \n",
       "3     ar        Best Chocolate Chip Cookies   \n",
       "4     ar  Homemade Mac and Cheese Casserole   \n",
       "\n",
       "                                         ingredients  \\\n",
       "0  [4 skinless, boneless chicken breast halves , ...   \n",
       "1  [2 (10.75 ounce) cans condensed cream of mushr...   \n",
       "2  [1/2 cup packed brown sugar , 1/2 cup ketchup ...   \n",
       "3  [1 cup butter, softened , 1 cup white sugar , ...   \n",
       "4  [8 ounces whole wheat rotini pasta , 3 cups fr...   \n",
       "\n",
       "                                        instructions  ingredient_count  \\\n",
       "0  Place the chicken, butter, soup, and onion in ...                 6   \n",
       "1  In a slow cooker, mix cream of mushroom soup, ...                 5   \n",
       "2  Preheat oven to 350 degrees F (175 degrees C)....                11   \n",
       "3  Preheat oven to 350 degrees F (175 degrees C)....                12   \n",
       "4  Preheat oven to 350 degrees F. Line a 2-quart ...                14   \n",
       "\n",
       "   instruction_length                                           combined  \n",
       "0                  53   \\n Ingredients: \\n 4 skinless, boneless chick...  \n",
       "1                  44   \\n Ingredients: \\n 2 (10.75 ounce) cans conde...  \n",
       "2                  67   \\n Ingredients: \\n 1/2 cup packed brown sugar...  \n",
       "3                  74   \\n Ingredients: \\n 1 cup butter, softened  \\n...  \n",
       "4                 175   \\n Ingredients: \\n 8 ounces whole wheat rotin...  "
      ]
     },
     "execution_count": 104,
     "metadata": {},
     "output_type": "execute_result"
    }
   ],
   "source": [
    "df.head()"
   ]
  },
  {
   "cell_type": "code",
   "execution_count": 105,
   "metadata": {
    "Collapsed": "false"
   },
   "outputs": [
    {
     "data": {
      "text/plain": [
       "['1/2 cup butter, melted ',\n",
       " '2 eggs, beaten ',\n",
       " '1 (8.5 ounce) package dry corn bread mix ',\n",
       " '1 (15 ounce) can whole kernel corn, drained ',\n",
       " '1 (14.75 ounce) can creamed corn ',\n",
       " '1 cup sour cream ',\n",
       " '']"
      ]
     },
     "execution_count": 105,
     "metadata": {},
     "output_type": "execute_result"
    }
   ],
   "source": [
    "df.iloc[100].ingredients"
   ]
  },
  {
   "cell_type": "code",
   "execution_count": 106,
   "metadata": {
    "Collapsed": "false"
   },
   "outputs": [
    {
     "data": {
      "text/plain": [
       "'Preheat oven to 350 degrees F (175 degrees C), and lightly grease a 9x9 inch baking dish. In a medium bowl, combine butter, eggs, corn bread mix, whole and creamed corn and sour cream. Spoon mixture into prepared dish. Bake for 45 minutes in the preheated oven, or until the top is golden brown. '"
      ]
     },
     "execution_count": 106,
     "metadata": {},
     "output_type": "execute_result"
    }
   ],
   "source": [
    "df.iloc[100].instructions"
   ]
  },
  {
   "cell_type": "code",
   "execution_count": 107,
   "metadata": {
    "Collapsed": "false"
   },
   "outputs": [
    {
     "name": "stdout",
     "output_type": "stream",
     "text": [
      " \n",
      " Ingredients: \n",
      " 1/2 cup butter, melted  \n",
      " 2 eggs, beaten  \n",
      " 1 (8.5 ounce) package dry corn bread mix  \n",
      " 1 (15 ounce) can whole kernel corn, drained  \n",
      " 1 (14.75 ounce) can creamed corn  \n",
      " 1 cup sour cream  \n",
      "  \n",
      " Instructions: \n",
      " Preheat oven to 350 degrees F (175 degrees C), and lightly grease a 9x9 inch baking dish. In a medium bowl, combine butter, eggs, corn bread mix, whole and creamed corn and sour cream. Spoon mixture into prepared dish. Bake for 45 minutes in the preheated oven, or until the top is golden brown.  <|endoftext|> \n"
     ]
    }
   ],
   "source": [
    "print(df.iloc[100].combined)"
   ]
  },
  {
   "cell_type": "code",
   "execution_count": 123,
   "metadata": {
    "Collapsed": "false"
   },
   "outputs": [],
   "source": [
    "df.to_pickle('df_recipes_processed.pkl')"
   ]
  },
  {
   "cell_type": "code",
   "execution_count": 108,
   "metadata": {
    "Collapsed": "false"
   },
   "outputs": [
    {
     "data": {
      "text/plain": [
       "(121780, 7)"
      ]
     },
     "execution_count": 108,
     "metadata": {},
     "output_type": "execute_result"
    }
   ],
   "source": [
    "df.shape"
   ]
  },
  {
   "cell_type": "code",
   "execution_count": 109,
   "metadata": {
    "Collapsed": "false"
   },
   "outputs": [],
   "source": [
    "dataset_train = df[:120000].combined.values\n",
    "dataset_val = df[120000:].combined.values"
   ]
  },
  {
   "cell_type": "code",
   "execution_count": 119,
   "metadata": {
    "Collapsed": "false"
   },
   "outputs": [],
   "source": [
    "with open('/Users/arianastassiou/Desktop/dataset_train.txt', 'w') as f:\n",
    "    f.write('\\n'.join(dataset_train))\n",
    "    \n",
    "with open('dataset_val.txt', 'w') as f:\n",
    "    f.write('\\n'.join(dataset_val))"
   ]
  },
  {
   "cell_type": "code",
   "execution_count": 117,
   "metadata": {
    "Collapsed": "false"
   },
   "outputs": [],
   "source": [
    "with open('dataset_train.txt', 'r') as f:\n",
    "    x = f.read()"
   ]
  },
  {
   "cell_type": "code",
   "execution_count": 121,
   "metadata": {
    "Collapsed": "false"
   },
   "outputs": [
    {
     "data": {
      "text/plain": [
       "168559013"
      ]
     },
     "execution_count": 121,
     "metadata": {},
     "output_type": "execute_result"
    }
   ],
   "source": [
    "len('\\n'.join(dataset_train))"
   ]
  },
  {
   "cell_type": "code",
   "execution_count": 122,
   "metadata": {
    "Collapsed": "false"
   },
   "outputs": [
    {
     "data": {
      "text/plain": [
       "168559013"
      ]
     },
     "execution_count": 122,
     "metadata": {},
     "output_type": "execute_result"
    }
   ],
   "source": [
    "len(x)"
   ]
  },
  {
   "cell_type": "code",
   "execution_count": 118,
   "metadata": {
    "Collapsed": "false"
   },
   "outputs": [
    {
     "name": "stdout",
     "output_type": "stream",
     "text": [
      " \n",
      " Ingredients: \n",
      " 4 skinless, boneless chicken breast halves  \n",
      " 2 tablespoons butter  \n",
      " 2 (10.75 ounce) cans condensed cream of chicken soup  \n",
      " 1 onion, finely diced  \n",
      " 2 (10 ounce) packages refrigerated biscuit dough, torn into pieces  \n",
      "  \n",
      " Instructions: \n",
      " Place the chicken, butter, soup, and onion in a slow cooker, and fill with enough water to cover. Cover, and cook for 5 to 6 hours on High. About 30 minutes before serving, place the torn biscuit dough in the slow cooker. Cook until the dough is no longer raw in the center.  <|endoftext|> \n",
      " \n",
      " Ingredients: \n",
      " 2 (10.75 ounce) cans condensed cream of mushroom soup  \n",
      " 1 (1 ounce) package dry onion soup mix  \n",
      " 1 1/4 cups water  \n",
      " 5 1/2 pounds pot roast  \n",
      "  \n",
      " Instructions: \n",
      " In a slow cooker, mix cream of mushroom soup, dry onion soup mix and water. Place pot roast in slow cooker and coat with soup mixture. Cook on High setting for 3 to 4 hours, or on Low setting for 8 to 9 hours.  <|endoftext|> \n",
      " \n",
      " Ingredients: \n",
      " 1/2 cup packed brown sugar  \n",
      " 1/2 cup ketchup  \n",
      " 1 1/2 pounds lean ground beef  \n",
      " 3/4 cup milk  \n",
      " 2 eggs  \n",
      " 1 1/2 teaspoons salt  \n",
      " 1/4 teaspoon ground black pepper  \n",
      " 1 small onion, chopped  \n",
      " 1/4 teaspoon ground ginger  \n",
      " 3/4 cup finely crushed saltine cracker crumbs  \n",
      "  \n",
      " Instructions: \n",
      " Preheat oven to 350 degrees F (175 degrees C). Lightly grease a 5x9 inch loaf pan. Press the brown sugar in the bottom of the prepared loaf pan and spread the ketchup over the sugar. In a mixing bowl, mix thoroughly all remaining ingredients and shape into a loaf. Place on top of the ketchup. Bake in preheated oven for 1 hour or until juices are clear.  <|endoftext|> \n",
      " \n",
      " Ingredients: \n",
      " 1 cup butter, softened  \n",
      " 1 cup white sugar  \n",
      " 1 cup packed brown sugar  \n",
      " 2 eggs  \n",
      " 2 teaspoons vanilla extract  \n",
      " 3 cups all-purpose flour  \n",
      " 1 teaspoon baking soda  \n",
      " 2 teaspoons hot water  \n",
      " 1/2 teaspoon salt  \n",
      " 2 cups semisweet chocolate chips  \n",
      " 1 cup chopped walnuts  \n",
      "  \n",
      " Instructions: \n",
      " Preheat oven to 350 degrees F (175 degrees C). Cream together the butter, white sugar, and brown sugar until smooth. Beat in the eggs one at a time, then stir in the vanilla. Dissolve baking soda in hot water. Add to batter along with salt. Stir in flour, chocolate chips, and nuts. Drop by large spoonfuls onto ungreased pans. Bake for about 10 minutes in the preheated oven, or until edges are nicely browned.  <|endoftext|> \n",
      " \n",
      " Ingredients: \n",
      " 8 ounces whole wheat rotini pasta  \n",
      " 3 cups fresh broccoli florets  \n",
      " 1 medium onion, chopped  \n",
      " 3 cloves garlic, minced  \n",
      " 4 tablespoons butter, divided  \n",
      " 2 tablespoons all-purpose flour  \n",
      " 1/4 teaspoon salt  \n",
      " 1/8 teaspoon ground black pepper  \n",
      " 2 1/2 cups milk  \n",
      " 8 ounces Cheddar cheese, shredded  \n",
      " 4 ounces reduced-fat cream cheese, cubed and softened  \n",
      " 1/2 cup fine dry Italian-seasoned bread crumbs  \n",
      " Reynolds Wrap® Non Stick Aluminum Foil  \n",
      "  \n",
      " Instructions: \n",
      " Preheat oven to 350 degrees F. Line a 2-quart casserole dish with Reynolds Wrap(R) Pan Lining Paper, parchment side up. No need to grease dish. Cook the pasta in a large saucepan according to the package directions, adding the broccoli for the last 3 minutes of cooking. Drain. Return to the saucepan and set aside. Cook the onion and garlic in 2 tablespoons hot butter in a large skillet 5 to 7 minutes or until tender. Stir in flour, salt, and black pepper. Add the milk all at once. Cook and stir over medium heat until slightly thickened and bubbly. Add cheddar cheese and cream cheese, stirring until melted. Pour cheese sauce over the pasta and broccoli and stir until well combined. Melt the remaining 2 tablespoons butter and mix with the bread crumbs in a small bowl. Transfer the pasta mixture to the prepared casserole dish. Top with the buttery bread crumbs. Bake, uncovered, about 25 minutes or until bubbly and internal temperature is 165 degrees F. Let stand for 10 minutes before serving.  <|endoftext|> \n",
      " \n",
      " Ingredients: \n",
      " 2 cups all-purpose flour  \n",
      " 1 teaspoon baking soda  \n",
      " 1/4 teaspoon salt  \n",
      " 1/2 cup butter  \n",
      " 3/4 cup brown sugar  \n",
      " 2 eggs, beaten  \n",
      " 2 1/3 cups mashed overripe bananas  \n",
      "  \n",
      " Instructions: \n",
      " Preheat oven to 350 degrees F (175 degrees C). Lightly grease a 9x5 inch loaf pan. In a large bowl, combine flour, baking soda and salt. In a separate bowl, cream together butter and brown sugar. Stir in eggs and mashed bananas until well blended. Stir banana mixture into flour mixture; stir just to moisten. Pour batter into prepared loaf pan. Bake in preheated oven for 60 to 65 minutes, until a toothpick inserted into center of the loaf comes out clean. Let bread cool in pan for 10 minutes, then turn out onto a wire rack.  <|endoftext|> \n",
      " \n",
      " Ingredients: \n",
      " For potato crust:  \n",
      " 3 russet potatoes, peeled and cut into chunks  \n",
      " 3 tablespoons butter  \n",
      " 1 pinch freshly grated nutmeg  \n",
      " salt and ground black pepper to taste  \n",
      " 1 pinch cayenne pepper, or to taste  \n",
      " 1/2 cup milk  \n",
      " For the spinach:  \n",
      " 2 teaspoons olive oil  \n",
      " 12 ounces baby spinach leaves  \n",
      " For the sauce:  \n",
      " 3 tablespoons butter  \n",
      " 3 tablespoons all-purpose flour  \n",
      " 2 cloves garlic, minced  \n",
      " 2 cups cold milk, divided  \n",
      " 2 teaspoons lemon zest  \n",
      " For the rest:  \n",
      " 1 tablespoon butter  \n",
      " salt and ground black pepper to taste  \n",
      " 1 pinch cayenne pepper, or to taste  \n",
      " 2 pounds boneless cod fillets  \n",
      " 1/2 lemon, juiced  \n",
      " 1 tablespoon chopped fresh chives for garnish  \n",
      "  \n",
      " Instructions: \n",
      " Bring a large saucepan of salted water and to a boil; add russet potatoes to boiling water and cook until very tender, about 20 minutes. Drain well. Mash in 3 tablespoons butter until thoroughly combined. Season with nutmeg, salt, black pepper, and cayenne pepper to taste. Mash 1/2 cup milk into potato mixture until smooth. Drizzle olive oil in a large Dutch oven over medium-high heat, add spinach, and season with a big pinch of salt. Cook, stirring occasionally, until spinach has wilted, about 1 minute. Transfer to a bowl lined with paper towels to wick away excess moisture. Heat 3 tablespoons butter and flour in a saucepan over medium heat; whisk mixture to a smooth paste. Cook, stirring constantly, until mixture has a nutty smell and is slightly browned, about 2 minutes. Add chopped garlic; whisk until fragrant, 10 to 20 seconds. Whisk 1 cup cold milk into flour mixture; cook until thickened. Whisk in remaining 1 cup milk and lemon zest. Bring white sauce to a gentle simmer, whisking constantly; season with salt. Turn heat to very low and keep sauce warm. Preheat oven to 375 degrees F (190 degrees C). Grease an 8x12-inch casserole dish with 1 tablespoon butter. Season buttered pan with salt, black pepper, and cayenne pepper. Lay boneless cod fillets into the pan in a single layer. Season tops of fillets with more salt, black pepper, and cayenne pepper. Spread spinach evenly over fish and drizzle with lemon juice. Spoon white sauce over spinach; give casserole dish several taps and shakes to eliminate bubbles. Drop mashed potatoes by heaping spoonfuls over the casserole and spread smoothly to cover. Place dish onto a rimmed baking sheet to catch spills. Bake in the preheated oven until bubbling, about 40 minutes. Turn on oven's broiler and broil until potato crust has a golden brown top, about 2 minutes. Fish should flake easily. Let stand 10 minutes before serving. Garnish with a sprinkle of chives.  <|endoftext|> \n",
      " \n",
      " Ingredients: \n",
      " 3 cups all-purpose flour  \n",
      " 1 teaspoon salt  \n",
      " 1 teaspoon baking soda  \n",
      " 1 teaspoon baking powder  \n",
      " 1 tablespoon ground cinnamon  \n",
      " 3 eggs  \n",
      " 1 cup vegetable oil  \n",
      " 2 1/4 cups white sugar  \n",
      " 3 teaspoons vanilla extract  \n",
      " 2 cups grated zucchini  \n",
      " 1 cup chopped walnuts  \n",
      "  \n",
      " Instructions: \n",
      " Grease and flour two 8 x 4 inch pans. Preheat oven to 325 degrees F (165 degrees C). Sift flour, salt, baking powder, soda, and cinnamon together in a bowl. Beat eggs, oil, vanilla, and sugar together in a large bowl. Add sifted ingredients to the creamed mixture, and beat well. Stir in zucchini and nuts until well combined. Pour batter into prepared pans. Bake for 40 to 60 minutes, or until tester inserted in the center comes out clean. Cool in pan on rack for 20 minutes. Remove bread from pan, and completely cool.  <|endoftext|> \n",
      " \n",
      " Ingredients: \n",
      " 1 1/2 cups butter, softened  \n",
      " 2 cups white sugar  \n",
      " 4 eggs  \n",
      " 1 teaspoon vanilla extract  \n",
      " 5 cups all-purpose flour  \n",
      " 2 teaspoons baking powder  \n",
      " 1 teaspoon salt  \n",
      "  \n",
      " Instructions: \n",
      " In a large bowl, cream together butter and sugar until smooth. Beat in eggs and vanilla. Stir in the flour, baking powder, and salt. Cover, and chill dough for at least one hour (or overnight). Preheat oven to 400 degrees F (200 degrees C). Roll out dough on floured surface 1/4 to 1/2 inch thick. Cut into shapes with any cookie cutter. Place cookies 1 inch apart on ungreased cookie sheets. Bake 6 to 8 minutes in preheated oven. Cool completely.  <|endoftext|> \n",
      " \n",
      " Ingredients: \n",
      " Sauce:  \n",
      " 1/2 cup ketchup  \n",
      " 1/2 cup chicken broth  \n",
      " 1 large egg  \n",
      " 2 tablespoons soy sauce  \n",
      " 2 tablespoons chile-garlic sauce (such as sambal oelek)  \n",
      " 1 tablespoon oyster sauce  \n",
      " 1 tablespoon tamarind paste  \n",
      " 2 teaspoons fish sauce  \n",
      " 2 teaspoons palm sugar  \n",
      " 1/4 cup minced shallot  \n",
      " 6 cloves garlic, minced  \n",
      " 2 tablespoons vegetable oil, or more as needed  \n",
      " 2 tablespoons minced fresh ginger root  \n",
      " 1 tablespoon minced serrano pepper  \n",
      " 2 cooked Dungeness crabs, cleaned and cracked  \n",
      " 2 tablespoons chopped fresh cilantro  \n",
      " 2 tablespoons sliced green onion (green part only)  \n",
      "  \n",
      " Instructions: \n",
      " Whisk ketchup, chicken broth, egg, soy sauce, chile-garlic sauce, oyster sauce, tamarind paste, fish sauce, and palm sugar together in a bowl. Stir shallots, garlic, oil, ginger, and serrano pepper together in a pot over medium-high heat. Saute until sizzling, about 2 minutes. Add crab to pot, cover the pot with a lid, and shake until crab is completely coated in shallot mixture. Remove lid and cook and stir until heated through, about 3 minutes. Pour ketchup mixture into pot, reduce heat to medium, and cook and stir until sau\n"
     ]
    }
   ],
   "source": [
    "print(x[:10000])"
   ]
  },
  {
   "cell_type": "code",
   "execution_count": null,
   "metadata": {
    "Collapsed": "false"
   },
   "outputs": [],
   "source": []
  },
  {
   "cell_type": "code",
   "execution_count": null,
   "metadata": {
    "Collapsed": "false"
   },
   "outputs": [],
   "source": []
  }
 ],
 "metadata": {
  "kernelspec": {
   "display_name": "Python 3",
   "language": "python",
   "name": "python3"
  },
  "language_info": {
   "codemirror_mode": {
    "name": "ipython",
    "version": 3
   },
   "file_extension": ".py",
   "mimetype": "text/x-python",
   "name": "python",
   "nbconvert_exporter": "python",
   "pygments_lexer": "ipython3",
   "version": "3.7.5"
  }
 },
 "nbformat": 4,
 "nbformat_minor": 4
}
